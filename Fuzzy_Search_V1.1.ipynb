{
 "cells": [
  {
   "cell_type": "code",
   "execution_count": 2,
   "id": "7127e7fa-0e9f-41a3-8661-8a29451bee88",
   "metadata": {
    "scrolled": true,
    "tags": []
   },
   "outputs": [],
   "source": [
    "import pandas as pd\n",
    "import numpy as np\n",
    "from rapidfuzz import process, fuzz"
   ]
  },
  {
   "cell_type": "code",
   "execution_count": 2,
   "id": "bb610cd9-2bc7-43fd-8539-af4f88d9b7ce",
   "metadata": {
    "scrolled": true,
    "tags": []
   },
   "outputs": [],
   "source": [
    "LCA_DATA = pd.read_excel(\".\\Data\\Enzo OE 4-1 to 4-26.xlsx\",sheet_name='Sheet2',usecols=[0,1,2,3,4,5,6,7])\n",
    "new_slab_data = pd.read_excel(\".\\Data\\Accessions 5.9.xlsx\",sheet_name='Sheet2',usecols=[0,1,2,3,4,5,6])\n",
    "\n",
    "LCA_DATA, new_slab_data"
   ]
  },
  {
   "cell_type": "code",
   "execution_count": 73,
   "id": "e2388468-062a-4309-8f6e-2be84d9efe73",
   "metadata": {
    "scrolled": true,
    "tags": []
   },
   "outputs": [
    {
     "name": "stdout",
     "output_type": "stream",
     "text": [
      "CPU times: total: 44.6 s\n",
      "Wall time: 2min 51s\n"
     ]
    }
   ],
   "source": [
    "%%time\n",
    "fuzz_dict = dict.fromkeys(new_slab_data['Name dob'])\n",
    "\n",
    "for name in new_slab_data['Name dob']:\n",
    "    name_fuzz = process.extract(name, LCA_DATA['Name dob'], scorer = fuzz.ratio)\n",
    "    for tup in name_fuzz.copy():\n",
    "        if tup[1] < 80:\n",
    "            index = name_fuzz.index(tup)\n",
    "            name_fuzz.pop(index)\n",
    "    fuzz_dict[name] = name_fuzz"
   ]
  },
  {
   "cell_type": "code",
   "execution_count": 74,
   "id": "0454f9c0-552c-4dbd-9945-e2e9861da882",
   "metadata": {
    "scrolled": true,
    "tags": []
   },
   "outputs": [
    {
     "name": "stdout",
     "output_type": "stream",
     "text": [
      "CPU times: total: 3.92 s\n",
      "Wall time: 14.5 s\n"
     ]
    }
   ],
   "source": [
    "%%time\n",
    "matched_lca_list = []\n",
    "matched_slab_list = []\n",
    "\n",
    "def append_row(list, num_of_appends, backup_appends, dataframe):\n",
    "    # if num_of_appends == 1:\n",
    "    #     for n in range(backup_appends):\n",
    "    #         list.append(dataframe)\n",
    "    # else:        \n",
    "    for n in range(num_of_appends):\n",
    "        list.append(dataframe)\n",
    "        \n",
    "    return list\n",
    "\n",
    "test = 0\n",
    "for name in fuzz_dict:\n",
    "    # if test == 7:\n",
    "    #     break\n",
    "    if len(fuzz_dict[name]) != 0:\n",
    "        lca_row = LCA_DATA.loc[LCA_DATA['Name dob'] == name] #set 'row' equal to the row from 'LCA_DATA' where \n",
    "        lca_occur = len(lca_row)\n",
    "        # print(f'lca row: {lca_row}')\n",
    "        # print()\n",
    "        # print(f'lca_occur: {lca_occur}')\n",
    "\n",
    "        slab_row = new_slab_data.loc[new_slab_data['Name dob'] == name]\n",
    "        slab_occur = len(slab_row)\n",
    "        # print(f'slab_row: {slab_row}')\n",
    "        # print()\n",
    "        # print(f'Slab occur: {slab_occur}')\n",
    "\n",
    "        matched_lca_list = append_row(matched_lca_list, slab_occur, lca_occur, lca_row)\n",
    "        matched_slab_list = append_row(matched_slab_list, lca_occur, slab_occur, slab_row)\n",
    "        \n",
    "        test += 1\n",
    "    \n",
    "       \n",
    "\n",
    "       "
   ]
  },
  {
   "cell_type": "code",
   "execution_count": 75,
   "id": "27d15ef0-bdaf-4fbb-a9c3-0f49f92eb5ab",
   "metadata": {
    "scrolled": true,
    "tags": []
   },
   "outputs": [],
   "source": [
    "#print(matched_lca_list)"
   ]
  },
  {
   "cell_type": "code",
   "execution_count": 76,
   "id": "a6660546-7739-4b0d-b662-88766ebac167",
   "metadata": {
    "scrolled": true,
    "tags": []
   },
   "outputs": [],
   "source": [
    "#print(matched_slab_list)"
   ]
  },
  {
   "cell_type": "code",
   "execution_count": 77,
   "id": "2c4c19b9-065e-4eef-ad82-0b439b6f2b0b",
   "metadata": {},
   "outputs": [],
   "source": [
    "lca_exportDF = pd.concat(matched_lca_list)\n",
    "slab_exportDF = pd.concat(matched_slab_list)"
   ]
  },
  {
   "cell_type": "code",
   "execution_count": 78,
   "id": "95a5ff79-4bb3-4cc4-9dd9-8966a520ae61",
   "metadata": {},
   "outputs": [
    {
     "name": "stdout",
     "output_type": "stream",
     "text": [
      "6852 6852\n"
     ]
    }
   ],
   "source": [
    "print(len(lca_exportDF),len(slab_exportDF)) #THIS IS WHEN THRESHOLD IS <= 90"
   ]
  },
  {
   "cell_type": "code",
   "execution_count": 79,
   "id": "c5aacc3b-b0de-48a4-b149-29e219ef0691",
   "metadata": {
    "scrolled": true,
    "tags": []
   },
   "outputs": [],
   "source": [
    "# writer = pd.ExcelWriter(r'C:\\Users\\smosavarpour\\Documents\\Coding\\Python\\FuzzySearch\\Data\\test-export.xlsx')\n",
    "\n",
    "# lca_exportDF.to_excel(writer, sheet_name='LCA',index=False)\n",
    "# slab_exportDF.to_excel(writer, sheet_name='SLAB',index=False)\n",
    "\n",
    "# writer.save()"
   ]
  },
  {
   "cell_type": "code",
   "execution_count": 17,
   "id": "d8cd3328-e986-4c0e-8ab4-6dd6eb724b2a",
   "metadata": {
    "tags": []
   },
   "outputs": [],
   "source": [
    "#HOW TO APPEND TO EXISTING SHEET,\n",
    "\n",
    "test_list = [1,2,3,4,5,6,7,123]\n",
    "test_list2 = ['Sam','brad','logan','matt']\n",
    "\n",
    "df = pd.DataFrame(test_list)\n",
    "df2 = pd.DataFrame(test_list2)\n",
    "\n",
    "# writer = pd.ExcelWriter(r\".\\Data\\Book2.xlsx\",\n",
    "#                 mode=\"a\",\n",
    "#                 if_sheet_exists = \"overlay\")\n",
    "\n",
    "# df.to_excel(writer, sheet_name=\"Sheet1\", startcol=0)\n",
    "# df2.to_excel(writer, sheet_name=\"Sheet1\",startcol=0, startrow=df[0].index[-1])\n",
    "\n",
    "# writer.close()"
   ]
  },
  {
   "cell_type": "code",
   "execution_count": null,
   "id": "df0f48cd-66e5-42cf-b108-0d7ff532ef42",
   "metadata": {},
   "outputs": [],
   "source": []
  },
  {
   "cell_type": "code",
   "execution_count": null,
   "id": "910f2bab-df35-4811-8f80-4c7c9beb7ef1",
   "metadata": {},
   "outputs": [],
   "source": []
  },
  {
   "cell_type": "code",
   "execution_count": 14,
   "id": "2966f181-9820-4091-bbb7-51260604988f",
   "metadata": {},
   "outputs": [
    {
     "data": {
      "text/plain": [
       "7"
      ]
     },
     "execution_count": 14,
     "metadata": {},
     "output_type": "execute_result"
    }
   ],
   "source": [
    "df[0].index[-1]"
   ]
  },
  {
   "cell_type": "code",
   "execution_count": 7,
   "id": "90943881-deb0-4b7a-8851-de7e253e8cda",
   "metadata": {
    "tags": []
   },
   "outputs": [
    {
     "data": {
      "text/html": [
       "<div>\n",
       "<style scoped>\n",
       "    .dataframe tbody tr th:only-of-type {\n",
       "        vertical-align: middle;\n",
       "    }\n",
       "\n",
       "    .dataframe tbody tr th {\n",
       "        vertical-align: top;\n",
       "    }\n",
       "\n",
       "    .dataframe thead th {\n",
       "        text-align: right;\n",
       "    }\n",
       "</style>\n",
       "<table border=\"1\" class=\"dataframe\">\n",
       "  <thead>\n",
       "    <tr style=\"text-align: right;\">\n",
       "      <th></th>\n",
       "      <th>0</th>\n",
       "    </tr>\n",
       "  </thead>\n",
       "  <tbody>\n",
       "    <tr>\n",
       "      <th>0</th>\n",
       "      <td>1</td>\n",
       "    </tr>\n",
       "    <tr>\n",
       "      <th>1</th>\n",
       "      <td>2</td>\n",
       "    </tr>\n",
       "    <tr>\n",
       "      <th>2</th>\n",
       "      <td>3</td>\n",
       "    </tr>\n",
       "    <tr>\n",
       "      <th>3</th>\n",
       "      <td>4</td>\n",
       "    </tr>\n",
       "    <tr>\n",
       "      <th>4</th>\n",
       "      <td>5</td>\n",
       "    </tr>\n",
       "    <tr>\n",
       "      <th>5</th>\n",
       "      <td>6</td>\n",
       "    </tr>\n",
       "    <tr>\n",
       "      <th>6</th>\n",
       "      <td>7</td>\n",
       "    </tr>\n",
       "    <tr>\n",
       "      <th>7</th>\n",
       "      <td>8</td>\n",
       "    </tr>\n",
       "  </tbody>\n",
       "</table>\n",
       "</div>"
      ],
      "text/plain": [
       "   0\n",
       "0  1\n",
       "1  2\n",
       "2  3\n",
       "3  4\n",
       "4  5\n",
       "5  6\n",
       "6  7\n",
       "7  8"
      ]
     },
     "execution_count": 7,
     "metadata": {},
     "output_type": "execute_result"
    }
   ],
   "source": [
    "df"
   ]
  }
 ],
 "metadata": {
  "kernelspec": {
   "display_name": "Python 3 (ipykernel)",
   "language": "python",
   "name": "python3"
  },
  "language_info": {
   "codemirror_mode": {
    "name": "ipython",
    "version": 3
   },
   "file_extension": ".py",
   "mimetype": "text/x-python",
   "name": "python",
   "nbconvert_exporter": "python",
   "pygments_lexer": "ipython3",
   "version": "3.10.9"
  }
 },
 "nbformat": 4,
 "nbformat_minor": 5
}
