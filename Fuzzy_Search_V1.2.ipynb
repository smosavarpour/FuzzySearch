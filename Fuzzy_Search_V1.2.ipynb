{
 "cells": [
  {
   "cell_type": "code",
   "execution_count": 4,
   "id": "7127e7fa-0e9f-41a3-8661-8a29451bee88",
   "metadata": {
    "scrolled": true,
    "tags": []
   },
   "outputs": [],
   "source": [
    "import pandas as pd\n",
    "import numpy as np\n",
    "from rapidfuzz import process, fuzz"
   ]
  },
  {
   "cell_type": "code",
   "execution_count": 17,
   "id": "13b0095a-f4d7-421a-bc25-3ea12005c008",
   "metadata": {
    "scrolled": true,
    "tags": []
   },
   "outputs": [],
   "source": [
    "#Import Labcorp and SLAB from Excel. NOTE: 'new_slab_data' MUST ONLY CONTAINS ACCESSIONS THAT HAVE NOT ALREADY BEEN MATCHED\n",
    "LCA_DATA = pd.read_excel(\"*******\",sheet_name='Sheet2',usecols=[0,1,2,3,4,7])#LCA data will never change, it will always be this static file\n",
    "old_slab_data = pd.read_excel(r\"*******\",sheet_name='LCA SLAB',usecols=[11,12,13,14,15,16,17])#old data should read the slab data from the FINAL export file.\n",
    "new_slab_data = pd.read_excel(r\"*******\",sheet_name='NEW acc',usecols=[0,1,2,3,4,5,6])#whichever file has the most up-to-date SLAB accessions"
   ]
  },
  {
   "cell_type": "code",
   "execution_count": 18,
   "id": "bb88db68-7460-4773-9019-c79b0135b742",
   "metadata": {
    "scrolled": true,
    "tags": []
   },
   "outputs": [
    {
     "name": "stdout",
     "output_type": "stream",
     "text": [
      "1142\n"
     ]
    }
   ],
   "source": [
    "#create dictionary of unique names in 'new_slab_data's \"Name dob\" column\n",
    "nameDOB_unique = new_slab_data[\"Name dob\"]\n",
    "nameDOB_unique.drop_duplicates(keep=\"first\", inplace=True)\n",
    "fuzz_dict = dict.fromkeys(nameDOB_unique)"
   ]
  },
  {
   "cell_type": "code",
   "execution_count": 26,
   "id": "1779b6e7-b696-471f-9f73-e9c117caa37c",
   "metadata": {
    "scrolled": true,
    "tags": []
   },
   "outputs": [
    {
     "name": "stdout",
     "output_type": "stream",
     "text": [
      "CPU times: total: 2.39 s\n",
      "Wall time: 4.3 s\n"
     ]
    }
   ],
   "source": [
    "%%time\n",
    "threshold = 90\n",
    "for name in fuzz_dict.copy():\n",
    "    name_fuzz = process.extract(name, LCA_DATA['Name dob'], scorer = fuzz.ratio)\n",
    "    for tup in name_fuzz.copy():\n",
    "        if tup[1] < threshold:\n",
    "            index = name_fuzz.index(tup)\n",
    "            name_fuzz.pop(index)\n",
    "    fuzz_dict[name] = name_fuzz"
   ]
  },
  {
   "cell_type": "code",
   "execution_count": 23,
   "id": "a397469f-5252-4d4c-8f6d-f400868929f5",
   "metadata": {
    "scrolled": true,
    "tags": []
   },
   "outputs": [],
   "source": [
    "%%time\n",
    "\n",
    "#Extract all accession information and put into a dataframe\n",
    "def append_row(list, num_of_appends, backup_appends, dataframe): \n",
    "    for n in range(num_of_appends):\n",
    "        list.append(dataframe)\n",
    "        \n",
    "    return list\n",
    "\n",
    "\n",
    "matched_lca_list = []\n",
    "matched_slab_list = []\n",
    "test = 0\n",
    "\n",
    "for name in fuzz_dict:\n",
    "    if len(fuzz_dict[name]) != 0: #this prevents accessions with NO LCA match from being added to the list\n",
    "        lca_row = LCA_DATA.loc[LCA_DATA['Name dob'] == name] #.loc returns ALL appearnces of 'Name dob'\n",
    "        lca_occur = len(lca_row)\n",
    "        \n",
    "        slab_row = new_slab_data.loc[new_slab_data['Name dob'] == name]\n",
    "        slab_occur = len(slab_row)\n",
    "\n",
    "        matched_lca_list = append_row(matched_lca_list, slab_occur, lca_occur, lca_row)\n",
    "        matched_slab_list = append_row(matched_slab_list, lca_occur, slab_occur, slab_row)\n",
    "        \n",
    "        #test += 1\n",
    "\n",
    "lca_exportDF = pd.concat(matched_lca_list)\n",
    "slab_exportDF = pd.concat(matched_slab_list)"
   ]
  },
  {
   "cell_type": "code",
   "execution_count": 24,
   "id": "c5aacc3b-b0de-48a4-b149-29e219ef0691",
   "metadata": {
    "scrolled": true,
    "tags": []
   },
   "outputs": [],
   "source": [
    "#exporting DFs to Excel\n",
    "# lca_append_col = #LCA COLUMNS IN EXPORT SHEET\n",
    "# slab_append_col = #SLAB COLUMNS IN EXPORT SHEET\n",
    "# append_row = #LAST ROW IN EXPORT SHEET\n",
    "\n",
    "def excel_print(file, lca_data, slab_data, row_append, new):\n",
    "    writer = pd.ExcelWriter(file, mode=\"a\", if_sheet_exists=\"overlay\")\n",
    "    \n",
    "    if new == 1:\n",
    "        lca_data.to_excel(writer, sheet_name=\"LCA SLAB\", startrow=0, startcol=0, index=False)\n",
    "        slab_data.to_excel(writer, sheet_name=\"LCA SLAB\", startrow=0, startcol=11, index=False, freeze_panes=[1,1])\n",
    "        \n",
    "    else:\n",
    "        lca_data.to_excel(writer, sheet_name=\"LCA SLAB\", startrow=row_append, startcol=0, index=False, header=False)\n",
    "        slab_data.to_excel(writer, sheet_name=\"LCA SLAB\", startrow=row_append, startcol=11, index=False, header=False, freeze_panes=[1,1])\n",
    "    \n",
    "    writer.close()\n",
    "\n",
    "row_append = old_slab_data[\"Name dob.1\"].index[-1]\n",
    "export_file = r\"*******\"\n",
    "excel_print(export_file, lca_exportDF, slab_exportDF, row_append, 0)# CHANGE LAST VARIABLE TO EITHER '0' OR '1' IF YOU WANT TO APPEND TO START CLEAN SHEET RESPECTIVELY\n"
   ]
  },
  {
   "cell_type": "code",
   "execution_count": null,
   "id": "daef34a8-2eaa-48e3-b798-32d4e3699674",
   "metadata": {},
   "outputs": [],
   "source": []
  }
 ],
 "metadata": {
  "kernelspec": {
   "display_name": "Python 3 (ipykernel)",
   "language": "python",
   "name": "python3"
  },
  "language_info": {
   "codemirror_mode": {
    "name": "ipython",
    "version": 3
   },
   "file_extension": ".py",
   "mimetype": "text/x-python",
   "name": "python",
   "nbconvert_exporter": "python",
   "pygments_lexer": "ipython3",
   "version": "3.10.9"
  }
 },
 "nbformat": 4,
 "nbformat_minor": 5
}
